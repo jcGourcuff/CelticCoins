{
  "nbformat": 4,
  "nbformat_minor": 0,
  "metadata": {
    "colab": {
      "name": "CelticCoinsClassifier.ipynb",
      "provenance": [],
      "toc_visible": true
    },
    "kernelspec": {
      "name": "python3",
      "display_name": "Python 3"
    }
  },
  "cells": [
    {
      "cell_type": "markdown",
      "metadata": {
        "id": "lx6c2ww4ag7z",
        "colab_type": "text"
      },
      "source": [
        " \n",
        "# Imports and global variables"
      ]
    },
    {
      "cell_type": "code",
      "metadata": {
        "id": "rTyhPm4gbaq5",
        "colab_type": "code",
        "colab": {}
      },
      "source": [
        "from torchvision import transforms, models\n",
        "from torch import utils\n",
        "from torch.utils.data import Dataset, DataLoader\n",
        "import torch\n",
        "import torchvision\n",
        "import torch.nn as nn\n",
        "import numpy as np\n",
        "import matplotlib.pyplot as plt\n",
        "from sklearn.preprocessing import LabelBinarizer\n",
        "import pandas as pd\n",
        "import numpy as np\n",
        "import os\n",
        "from skimage import io\n",
        "from PIL import Image\n",
        "%matplotlib inline\n",
        "\n",
        "labels = [\"Corieltauvi\", \"Iceni\", \"Trinovantes-Catuvellauni\", \"Atrebates\", \"Cantii\", \"Durotriges\", \"Dobunni\"]\n",
        "unknown_labels = [\"Blanks\", \"Uncertain\", \"Uncertain_British\"]\n",
        "regions = [\"East_England\", \"North_of_the_Thames\", \"South_of_the_Thames\", \"South_West_England\", \"Uncertain\", \"West_England\"]\n",
        "root_dir = \"Images/\""
      ],
      "execution_count": 0,
      "outputs": []
    },
    {
      "cell_type": "code",
      "metadata": {
        "id": "r5ORqTKJcKk6",
        "colab_type": "code",
        "colab": {
          "base_uri": "https://localhost:8080/",
          "height": 34
        },
        "outputId": "3ec2cd57-ab8b-4463-ddd0-c1e611b91b02"
      },
      "source": [
        "device = torch.device(\"cuda:0\" if torch.cuda.is_available() else \"cpu\")\n",
        "print('Using gpu: %s ' % torch.cuda.is_available())"
      ],
      "execution_count": 3,
      "outputs": [
        {
          "output_type": "stream",
          "text": [
            "Using gpu: False \n"
          ],
          "name": "stdout"
        }
      ]
    },
    {
      "cell_type": "code",
      "metadata": {
        "id": "MJVf3ipzcVtv",
        "colab_type": "code",
        "colab": {}
      },
      "source": [
        ""
      ],
      "execution_count": 0,
      "outputs": []
    }
  ]
}